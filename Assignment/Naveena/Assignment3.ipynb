{
  "nbformat": 4,
  "nbformat_minor": 0,
  "metadata": {
    "colab": {
      "provenance": []
    },
    "kernelspec": {
      "name": "python3",
      "display_name": "Python 3"
    },
    "language_info": {
      "name": "python"
    }
  },
  "cells": [
    {
      "cell_type": "code",
      "source": [
        "from google.colab import drive\n",
        "drive.mount('/content/drive')"
      ],
      "metadata": {
        "colab": {
          "base_uri": "https://localhost:8080/"
        },
        "id": "4KB2aqFfCwmp",
        "outputId": "988095fe-d0da-4d89-b7f1-cb5af69f9f10"
      },
      "execution_count": 11,
      "outputs": [
        {
          "output_type": "stream",
          "name": "stdout",
          "text": [
            "Drive already mounted at /content/drive; to attempt to forcibly remount, call drive.mount(\"/content/drive\", force_remount=True).\n"
          ]
        }
      ]
    },
    {
      "cell_type": "code",
      "execution_count": 14,
      "metadata": {
        "colab": {
          "base_uri": "https://localhost:8080/"
        },
        "id": "aZZzLBgJskVW",
        "outputId": "670e9f20-1836-42b9-9c98-e24fb788e7f3"
      },
      "outputs": [
        {
          "output_type": "stream",
          "name": "stdout",
          "text": [
            "unzip:  cannot find or open https://drive.google.com/file/d/1DBnz1NtzpVk93xdVcG3LwHoA31L8fDt9/view?usp=share_link, https://drive.google.com/file/d/1DBnz1NtzpVk93xdVcG3LwHoA31L8fDt9/view?usp=share_link.zip or https://drive.google.com/file/d/1DBnz1NtzpVk93xdVcG3LwHoA31L8fDt9/view?usp=share_link.ZIP.\n",
            "\n",
            "No zipfiles found.\n"
          ]
        }
      ],
      "source": [
        "!unzip 'https://drive.google.com/file/d/1DBnz1NtzpVk93xdVcG3LwHoA31L8fDt9/view?usp=share_link'"
      ]
    },
    {
      "cell_type": "markdown",
      "source": [
        "# **2.Image Augmentation**"
      ],
      "metadata": {
        "id": "opOaArjX1Owj"
      }
    },
    {
      "cell_type": "code",
      "source": [
        "from tensorflow.keras.preprocessing.image import ImageDataGenerator"
      ],
      "metadata": {
        "id": "kJTg5k9Z1Gjp"
      },
      "execution_count": 2,
      "outputs": []
    },
    {
      "cell_type": "code",
      "source": [
        "train_datagen=ImageDataGenerator(rescale=1./255,\n",
        "                                 zoom_range=0.2,\n",
        "                                 horizontal_flip=True)"
      ],
      "metadata": {
        "id": "1tIYUWCW1Gfn"
      },
      "execution_count": 3,
      "outputs": []
    },
    {
      "cell_type": "code",
      "source": [
        "test_datagen=ImageDataGenerator(rescale=1./255)\n"
      ],
      "metadata": {
        "id": "fF2SaVhG1Gdr"
      },
      "execution_count": 4,
      "outputs": []
    },
    {
      "cell_type": "code",
      "source": [
        "xtrain=train_datagen.flow_from_directory('/content/drive/MyDrive/Flowers-Dataset'),\n",
        "                                         target_size=(76,76),\n",
        "                                         class_mode='categorical',\n",
        "                                         batch_size=100)"
      ],
      "metadata": {
        "id": "2OmI4opnF5lI"
      },
      "execution_count": null,
      "outputs": []
    },
    {
      "cell_type": "markdown",
      "source": [
        "# **3.Create Model**"
      ],
      "metadata": {
        "id": "PaHRB1G24fTE"
      }
    },
    {
      "cell_type": "code",
      "source": [
        "from tensorflow.keras.models import Sequential"
      ],
      "metadata": {
        "id": "YZjTqgeW1GU1"
      },
      "execution_count": 7,
      "outputs": []
    },
    {
      "cell_type": "code",
      "source": [
        "from tensorflow.keras.layers import Convolution2D,MaxPool2D,Flatten,Dense"
      ],
      "metadata": {
        "id": "28sQCz-C1GJw"
      },
      "execution_count": 8,
      "outputs": []
    },
    {
      "cell_type": "markdown",
      "source": [
        "# **4.Add Layers**"
      ],
      "metadata": {
        "id": "si5pykRk5ETw"
      }
    },
    {
      "cell_type": "code",
      "source": [
        "model=Sequential()\n",
        "model.add(Convolution2D(32,(3,3),activation='relu',input_shape=(76,76,3)))\n",
        "model.add(MaxPool2D(pool_size=(2,2)))\n",
        "model.add(Flatten())\n",
        "model.add(Dense(300,activation='relu'))\n",
        "model.add(Dense(150,activation='relu'))\n",
        "model.add(Dense(4,activation='softmax'))"
      ],
      "metadata": {
        "id": "kq2LNvzV1F7x"
      },
      "execution_count": 12,
      "outputs": []
    },
    {
      "cell_type": "markdown",
      "source": [
        "# **5.Compile the Model**"
      ],
      "metadata": {
        "id": "KC3_T4kE5XAz"
      }
    },
    {
      "cell_type": "code",
      "source": [
        "model.compile(optimizer='adam',loss='categorical_crossentropy',metrics=['accuracy'])"
      ],
      "metadata": {
        "id": "1dW0g0QW5JlI"
      },
      "execution_count": 13,
      "outputs": []
    },
    {
      "cell_type": "markdown",
      "source": [
        "# **6.Fit the Model**"
      ],
      "metadata": {
        "id": "FQzc2vnH5z17"
      }
    },
    {
      "cell_type": "code",
      "source": [
        "model.fit_generator(xtrain,steps_per_epoch= len (xtrain),\n",
        "                    epochs= 10,\n",
        "                    validation_data=xtest,\n",
        "                    validation_steps= len (xtest))"
      ],
      "metadata": {
        "id": "XpztYi3U5KtG"
      },
      "execution_count": null,
      "outputs": []
    },
    {
      "cell_type": "markdown",
      "source": [
        "# **7.SAVE THE MODEL**"
      ],
      "metadata": {
        "id": "sDixxwP2HE8a"
      }
    },
    {
      "cell_type": "code",
      "source": [
        "model.save('flowers.h5')\n"
      ],
      "metadata": {
        "id": "Vx367dVrHkbH"
      },
      "execution_count": null,
      "outputs": []
    },
    {
      "cell_type": "markdown",
      "source": [
        "# **8.TESTING THE MODEL**"
      ],
      "metadata": {
        "id": "_gP37NhdH5N8"
      }
    },
    {
      "cell_type": "markdown",
      "source": [
        "Testing 1"
      ],
      "metadata": {
        "id": "gsTmrkADJo9P"
      }
    },
    {
      "cell_type": "code",
      "source": [
        "from tensorflow.keras.preprocessing import image\n",
        "import numpy as np"
      ],
      "metadata": {
        "id": "crq6r359HkYG"
      },
      "execution_count": null,
      "outputs": []
    },
    {
      "cell_type": "code",
      "source": [
        "img=image.load_img('/content/drive/MyDrive/Flowers-Dataset/flowers/daisy/100080576_f52e8ee070_n.jpg',target_size=(76,76))\n",
        "img\n"
      ],
      "metadata": {
        "id": "B2NxqfqgHkWL"
      },
      "execution_count": null,
      "outputs": []
    },
    {
      "cell_type": "code",
      "source": [
        "x=image.img_to_array(img)\n",
        "x\n",
        "x=np.expand_dims(x,axis=0)\n",
        "pred=np.argmax(model.predict(x))\n",
        "pred\n",
        "op=['sunflower','dandelion','rose','daisy','tulip']\n",
        "op[pred]\n"
      ],
      "metadata": {
        "id": "-h472zzeJDcu"
      },
      "execution_count": null,
      "outputs": []
    },
    {
      "cell_type": "markdown",
      "source": [
        "Testing 2"
      ],
      "metadata": {
        "id": "nJiZdRO9Jwkv"
      }
    },
    {
      "cell_type": "code",
      "source": [
        "img=image.load_img('/content/drive/MyDrive/Flowers-Dataset/flowers/sunflower/1008566138_6927679c8a.jpg',target_size=(76,76))\n",
        "img"
      ],
      "metadata": {
        "id": "Mp3_9BBgHkR9"
      },
      "execution_count": null,
      "outputs": []
    },
    {
      "cell_type": "code",
      "source": [
        "x=image.img_to_array(img)\n",
        "x\n",
        "x=np.expand_dims(x,axis=0)\n",
        "pred=np.argmax(model.predict(x))\n",
        "pred\n",
        "op=['daisy','dandelion','rose','sunflower','tulip']\n",
        "op[pred]"
      ],
      "metadata": {
        "id": "2WRVJFQfHkPm"
      },
      "execution_count": null,
      "outputs": []
    },
    {
      "cell_type": "code",
      "source": [
        "img=image.load_img('/content/drive/MyDrive/Flowers-Dataset/flowers/rose/102501987_3cdb8e5394_n.jpg',target_size=(76,76))\n",
        "img"
      ],
      "metadata": {
        "id": "H8R7zjNQHkM1"
      },
      "execution_count": null,
      "outputs": []
    },
    {
      "cell_type": "code",
      "source": [
        "x=image.img_to_array(img)\n",
        "x\n",
        "x=np.expand_dims(x,axis=0)\n",
        "pred=np.argmax(model.predict(x))\n",
        "pred\n",
        "op=['daisy','dandelion','sunflower','rose','tulip']\n",
        "op[pred]\n"
      ],
      "metadata": {
        "id": "V-FB8LVtJhvK"
      },
      "execution_count": null,
      "outputs": []
    }
  ]
}